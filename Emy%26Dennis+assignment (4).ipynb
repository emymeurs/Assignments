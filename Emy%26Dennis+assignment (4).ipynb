{
 "cells": [
  {
   "cell_type": "markdown",
   "metadata": {},
   "source": [
    "## Table of contents\n",
    "\n",
    "<a href=\"#Introduction\">Introduction</a>\n",
    "\n",
    "\n",
    "<a href=\"#2\">Research question and method</a>\n",
    "\n",
    "\n",
    "<a href=\"#3\">Answer</a>\n",
    "\n",
    "\n",
    "<a href=\"#4\">Importing libraries and data</a>\n",
    "\n",
    "\n",
    "<a href=\"#5\">data</a>\n",
    "\n",
    "\n",
    "<a href=\"#6\">Graphs</a>\n",
    "\n",
    "\n",
    "<a href=\"#7\">Regression</a>\n",
    "\n"
   ]
  },
  {
   "cell_type": "markdown",
   "metadata": {},
   "source": [
    "### Introduction\n",
    "<a name=\"Introduction\"></a>\n",
    "\n",
    "Piketty showed that housing has become a more important part of wealth in the past decades. Also Maclennan and Miao provide some evidence of the importance of housing in total wealth. They show that the demand for housing is income inelastic, it will grow faster then income, and price inelastic, demand falls slower than the rise of the prices. This can explain the housing bubble that started the crisis in 2008, as housing is a great part of wealth a burst of the bubble creates a crisis. Nowadays the housing prices in the Netherlands are on the rise again and demand only keeps growing. We will have a look if the bubble is enlargening in The Netherlands by looking at the demand versus income and the demand versus housing prices."
   ]
  },
  {
   "cell_type": "markdown",
   "metadata": {},
   "source": [
    "### Research question and method\n",
    "<a name=\"2\"></a>\n",
    "question: Is there a housing bubble in the Netherlands?\n",
    "\n",
    "Method: we will use data from the CPB that gives the national income, the housing prices and the amount of houses that has been sold. With this data we will see if there is indeed income elasticity and price inelasticity. We will compare the national income with the housing prices to se the correlation. After we will show how the housing prices move compared to the amount of houses sold in the Netherlands. Finally we will conduct a short regression on the effect of both housing prices as houses sold on the national income to see if Piketty was right, that housing has become a great part of wealth."
   ]
  },
  {
   "cell_type": "markdown",
   "metadata": {},
   "source": [
    "### Answer\n",
    "<a name=\"3\"></a>"
   ]
  },
  {
   "cell_type": "markdown",
   "metadata": {},
   "source": [
    "### importing libraries and data\n",
    "<a name=\"4\"></a>"
   ]
  },
  {
   "cell_type": "code",
   "execution_count": 168,
   "metadata": {},
   "outputs": [],
   "source": [
    "import pandas as pd\n",
    "import plotly.plotly as py\n",
    "import cufflinks as cf\n",
    "import plotly.graph_objs as go\n",
    "import plotly.figure_factory as f\n",
    "import plotly.tools as tls\n",
    "import numpy as np\n"
   ]
  },
  {
   "cell_type": "markdown",
   "metadata": {},
   "source": [
    "## data\n",
    "<a name=\"5\"></a>\n",
    "\n",
    "We use data from the StatLine site of the CPB. The data concerns the average primaire income of Dutch people from 2000-2016. We also use the Price index of existing houses in the Netherlands, these count or 1995-2000-2005-2011/2017. This time frame is also used for the amount of houses sold."
   ]
  },
  {
   "cell_type": "code",
   "execution_count": 124,
   "metadata": {},
   "outputs": [],
   "source": [
    "#load data set\n",
    "\n",
    "avw = pd.read_csv(\"AVW.csv\", delimiter=\";\", skiprows=1) #aantalverkochtewoningen\n",
    "gpi = pd.read_csv(\"GPI.csv\", delimiter=\";\") #gemiddeldprimairinkomen\n",
    "pbw = pd.read_csv(\"PBW.csv\", delimiter=\";\", skiprows=1) #prijsindexbestaandewoningen\n",
    "avw_nederland = avw['Nederland']\n",
    "pbw_nederland = pbw['Nederland']\n",
    "time = pbw[\"Regio's\"]\n",
    "gpi_year = gpi[\"Unnamed: 0\"]\n",
    "gpi_income = gpi[\"Gemiddeld persoonlijk primair inkomen\"]"
   ]
  },
  {
   "cell_type": "code",
   "execution_count": 125,
   "metadata": {
    "collapsed": true
   },
   "outputs": [],
   "source": [
    "tls.set_credentials_file(username='Emy', api_key='6Z8dyMacLHXEeYPFdA6L')"
   ]
  },
  {
   "cell_type": "code",
   "execution_count": 127,
   "metadata": {},
   "outputs": [
    {
     "data": {
      "text/html": [
       "<div>\n",
       "<style>\n",
       "    .dataframe thead tr:only-child th {\n",
       "        text-align: right;\n",
       "    }\n",
       "\n",
       "    .dataframe thead th {\n",
       "        text-align: left;\n",
       "    }\n",
       "\n",
       "    .dataframe tbody tr th {\n",
       "        vertical-align: top;\n",
       "    }\n",
       "</style>\n",
       "<table border=\"1\" class=\"dataframe\">\n",
       "  <thead>\n",
       "    <tr style=\"text-align: right;\">\n",
       "      <th></th>\n",
       "      <th>Regio's</th>\n",
       "      <th>Nederland</th>\n",
       "      <th>Groningen (PV)</th>\n",
       "      <th>Zuid-Holland (PV)</th>\n",
       "      <th>Noord-Brabant (PV)</th>\n",
       "      <th>Amsterdam</th>\n",
       "      <th>Rotterdam</th>\n",
       "      <th>Unnamed: 7</th>\n",
       "    </tr>\n",
       "  </thead>\n",
       "  <tbody>\n",
       "    <tr>\n",
       "      <th>0</th>\n",
       "      <td>1995</td>\n",
       "      <td>37.6</td>\n",
       "      <td>38.1</td>\n",
       "      <td>38.9</td>\n",
       "      <td>36.2</td>\n",
       "      <td>30.0</td>\n",
       "      <td>37.1</td>\n",
       "      <td>NaN</td>\n",
       "    </tr>\n",
       "    <tr>\n",
       "      <th>1</th>\n",
       "      <td>2000</td>\n",
       "      <td>71.1</td>\n",
       "      <td>62.3</td>\n",
       "      <td>69.7</td>\n",
       "      <td>69.9</td>\n",
       "      <td>68.7</td>\n",
       "      <td>67.0</td>\n",
       "      <td>NaN</td>\n",
       "    </tr>\n",
       "    <tr>\n",
       "      <th>2</th>\n",
       "      <td>2005</td>\n",
       "      <td>94.4</td>\n",
       "      <td>94.5</td>\n",
       "      <td>95.4</td>\n",
       "      <td>94.8</td>\n",
       "      <td>81.9</td>\n",
       "      <td>93.3</td>\n",
       "      <td>NaN</td>\n",
       "    </tr>\n",
       "    <tr>\n",
       "      <th>3</th>\n",
       "      <td>2010</td>\n",
       "      <td>100.0</td>\n",
       "      <td>100.0</td>\n",
       "      <td>100.0</td>\n",
       "      <td>100.0</td>\n",
       "      <td>100.0</td>\n",
       "      <td>100.0</td>\n",
       "      <td>NaN</td>\n",
       "    </tr>\n",
       "    <tr>\n",
       "      <th>4</th>\n",
       "      <td>2011</td>\n",
       "      <td>97.6</td>\n",
       "      <td>96.9</td>\n",
       "      <td>98.3</td>\n",
       "      <td>96.8</td>\n",
       "      <td>99.7</td>\n",
       "      <td>99.3</td>\n",
       "      <td>NaN</td>\n",
       "    </tr>\n",
       "    <tr>\n",
       "      <th>5</th>\n",
       "      <td>2012</td>\n",
       "      <td>91.3</td>\n",
       "      <td>90.7</td>\n",
       "      <td>91.9</td>\n",
       "      <td>89.9</td>\n",
       "      <td>94.0</td>\n",
       "      <td>94.4</td>\n",
       "      <td>NaN</td>\n",
       "    </tr>\n",
       "    <tr>\n",
       "      <th>6</th>\n",
       "      <td>2013</td>\n",
       "      <td>85.3</td>\n",
       "      <td>85.8</td>\n",
       "      <td>86.3</td>\n",
       "      <td>83.4</td>\n",
       "      <td>89.1</td>\n",
       "      <td>89.1</td>\n",
       "      <td>NaN</td>\n",
       "    </tr>\n",
       "    <tr>\n",
       "      <th>7</th>\n",
       "      <td>2014</td>\n",
       "      <td>86.1</td>\n",
       "      <td>85.2</td>\n",
       "      <td>87.4</td>\n",
       "      <td>83.7</td>\n",
       "      <td>93.7</td>\n",
       "      <td>90.5</td>\n",
       "      <td>NaN</td>\n",
       "    </tr>\n",
       "    <tr>\n",
       "      <th>8</th>\n",
       "      <td>2015</td>\n",
       "      <td>88.5</td>\n",
       "      <td>87.5</td>\n",
       "      <td>90.0</td>\n",
       "      <td>85.6</td>\n",
       "      <td>102.8</td>\n",
       "      <td>94.5</td>\n",
       "      <td>NaN</td>\n",
       "    </tr>\n",
       "    <tr>\n",
       "      <th>9</th>\n",
       "      <td>2016</td>\n",
       "      <td>93.0</td>\n",
       "      <td>91.6</td>\n",
       "      <td>94.6</td>\n",
       "      <td>88.9</td>\n",
       "      <td>116.7</td>\n",
       "      <td>101.3</td>\n",
       "      <td>NaN</td>\n",
       "    </tr>\n",
       "    <tr>\n",
       "      <th>10</th>\n",
       "      <td>2017</td>\n",
       "      <td>100.0</td>\n",
       "      <td>96.8</td>\n",
       "      <td>102.5</td>\n",
       "      <td>94.3</td>\n",
       "      <td>133.1</td>\n",
       "      <td>114.4</td>\n",
       "      <td>NaN</td>\n",
       "    </tr>\n",
       "  </tbody>\n",
       "</table>\n",
       "</div>"
      ],
      "text/plain": [
       "    Regio's  Nederland  Groningen (PV)  Zuid-Holland (PV)  Noord-Brabant (PV)  \\\n",
       "0      1995       37.6            38.1               38.9                36.2   \n",
       "1      2000       71.1            62.3               69.7                69.9   \n",
       "2      2005       94.4            94.5               95.4                94.8   \n",
       "3      2010      100.0           100.0              100.0               100.0   \n",
       "4      2011       97.6            96.9               98.3                96.8   \n",
       "5      2012       91.3            90.7               91.9                89.9   \n",
       "6      2013       85.3            85.8               86.3                83.4   \n",
       "7      2014       86.1            85.2               87.4                83.7   \n",
       "8      2015       88.5            87.5               90.0                85.6   \n",
       "9      2016       93.0            91.6               94.6                88.9   \n",
       "10     2017      100.0            96.8              102.5                94.3   \n",
       "\n",
       "    Amsterdam  Rotterdam  Unnamed: 7  \n",
       "0        30.0       37.1         NaN  \n",
       "1        68.7       67.0         NaN  \n",
       "2        81.9       93.3         NaN  \n",
       "3       100.0      100.0         NaN  \n",
       "4        99.7       99.3         NaN  \n",
       "5        94.0       94.4         NaN  \n",
       "6        89.1       89.1         NaN  \n",
       "7        93.7       90.5         NaN  \n",
       "8       102.8       94.5         NaN  \n",
       "9       116.7      101.3         NaN  \n",
       "10      133.1      114.4         NaN  "
      ]
     },
     "execution_count": 127,
     "metadata": {},
     "output_type": "execute_result"
    }
   ],
   "source": [
    "pbw"
   ]
  },
  {
   "cell_type": "code",
   "execution_count": 134,
   "metadata": {},
   "outputs": [
    {
     "data": {
      "text/html": [
       "<div>\n",
       "<style>\n",
       "    .dataframe thead tr:only-child th {\n",
       "        text-align: right;\n",
       "    }\n",
       "\n",
       "    .dataframe thead th {\n",
       "        text-align: left;\n",
       "    }\n",
       "\n",
       "    .dataframe tbody tr th {\n",
       "        vertical-align: top;\n",
       "    }\n",
       "</style>\n",
       "<table border=\"1\" class=\"dataframe\">\n",
       "  <thead>\n",
       "    <tr style=\"text-align: right;\">\n",
       "      <th></th>\n",
       "      <th>Unnamed: 0</th>\n",
       "      <th>Gemiddeld persoonlijk primair inkomen</th>\n",
       "    </tr>\n",
       "  </thead>\n",
       "  <tbody>\n",
       "    <tr>\n",
       "      <th>0</th>\n",
       "      <td>2000</td>\n",
       "      <td>33.2</td>\n",
       "    </tr>\n",
       "    <tr>\n",
       "      <th>1</th>\n",
       "      <td>2001</td>\n",
       "      <td>35.3</td>\n",
       "    </tr>\n",
       "    <tr>\n",
       "      <th>2</th>\n",
       "      <td>2002</td>\n",
       "      <td>36.4</td>\n",
       "    </tr>\n",
       "    <tr>\n",
       "      <th>3</th>\n",
       "      <td>2003</td>\n",
       "      <td>36.6</td>\n",
       "    </tr>\n",
       "    <tr>\n",
       "      <th>4</th>\n",
       "      <td>2004</td>\n",
       "      <td>37.8</td>\n",
       "    </tr>\n",
       "    <tr>\n",
       "      <th>5</th>\n",
       "      <td>2005</td>\n",
       "      <td>38.4</td>\n",
       "    </tr>\n",
       "    <tr>\n",
       "      <th>6</th>\n",
       "      <td>2006</td>\n",
       "      <td>40.0</td>\n",
       "    </tr>\n",
       "    <tr>\n",
       "      <th>7</th>\n",
       "      <td>2007</td>\n",
       "      <td>42.4</td>\n",
       "    </tr>\n",
       "    <tr>\n",
       "      <th>8</th>\n",
       "      <td>2008</td>\n",
       "      <td>43.2</td>\n",
       "    </tr>\n",
       "    <tr>\n",
       "      <th>9</th>\n",
       "      <td>2009</td>\n",
       "      <td>42.9</td>\n",
       "    </tr>\n",
       "    <tr>\n",
       "      <th>10</th>\n",
       "      <td>2010</td>\n",
       "      <td>42.9</td>\n",
       "    </tr>\n",
       "    <tr>\n",
       "      <th>11</th>\n",
       "      <td>2011</td>\n",
       "      <td>43.2</td>\n",
       "    </tr>\n",
       "    <tr>\n",
       "      <th>12</th>\n",
       "      <td>2012</td>\n",
       "      <td>43.6</td>\n",
       "    </tr>\n",
       "    <tr>\n",
       "      <th>13</th>\n",
       "      <td>2013</td>\n",
       "      <td>43.7</td>\n",
       "    </tr>\n",
       "    <tr>\n",
       "      <th>14</th>\n",
       "      <td>2014</td>\n",
       "      <td>44.9</td>\n",
       "    </tr>\n",
       "    <tr>\n",
       "      <th>15</th>\n",
       "      <td>2015</td>\n",
       "      <td>45.2</td>\n",
       "    </tr>\n",
       "    <tr>\n",
       "      <th>16</th>\n",
       "      <td>2016</td>\n",
       "      <td>45.6</td>\n",
       "    </tr>\n",
       "  </tbody>\n",
       "</table>\n",
       "</div>"
      ],
      "text/plain": [
       "    Unnamed: 0  Gemiddeld persoonlijk primair inkomen\n",
       "0         2000                                   33.2\n",
       "1         2001                                   35.3\n",
       "2         2002                                   36.4\n",
       "3         2003                                   36.6\n",
       "4         2004                                   37.8\n",
       "5         2005                                   38.4\n",
       "6         2006                                   40.0\n",
       "7         2007                                   42.4\n",
       "8         2008                                   43.2\n",
       "9         2009                                   42.9\n",
       "10        2010                                   42.9\n",
       "11        2011                                   43.2\n",
       "12        2012                                   43.6\n",
       "13        2013                                   43.7\n",
       "14        2014                                   44.9\n",
       "15        2015                                   45.2\n",
       "16        2016                                   45.6"
      ]
     },
     "execution_count": 134,
     "metadata": {},
     "output_type": "execute_result"
    }
   ],
   "source": [
    "gpi"
   ]
  },
  {
   "cell_type": "code",
   "execution_count": 135,
   "metadata": {},
   "outputs": [
    {
     "data": {
      "text/html": [
       "<div>\n",
       "<style>\n",
       "    .dataframe thead tr:only-child th {\n",
       "        text-align: right;\n",
       "    }\n",
       "\n",
       "    .dataframe thead th {\n",
       "        text-align: left;\n",
       "    }\n",
       "\n",
       "    .dataframe tbody tr th {\n",
       "        vertical-align: top;\n",
       "    }\n",
       "</style>\n",
       "<table border=\"1\" class=\"dataframe\">\n",
       "  <thead>\n",
       "    <tr style=\"text-align: right;\">\n",
       "      <th></th>\n",
       "      <th>Unnamed: 0</th>\n",
       "      <th>Nederland</th>\n",
       "      <th>Groningen (PV)</th>\n",
       "      <th>Zuid-Holland (PV)</th>\n",
       "      <th>Noord-Brabant (PV)</th>\n",
       "      <th>Amsterdam</th>\n",
       "      <th>Rotterdam</th>\n",
       "    </tr>\n",
       "  </thead>\n",
       "  <tbody>\n",
       "    <tr>\n",
       "      <th>0</th>\n",
       "      <td>1995</td>\n",
       "      <td>154568</td>\n",
       "      <td>5512</td>\n",
       "      <td>36098</td>\n",
       "      <td>23502</td>\n",
       "      <td>2864</td>\n",
       "      <td>4987</td>\n",
       "    </tr>\n",
       "    <tr>\n",
       "      <th>1</th>\n",
       "      <td>2000</td>\n",
       "      <td>189358</td>\n",
       "      <td>6871</td>\n",
       "      <td>43079</td>\n",
       "      <td>28002</td>\n",
       "      <td>4951</td>\n",
       "      <td>6533</td>\n",
       "    </tr>\n",
       "    <tr>\n",
       "      <th>2</th>\n",
       "      <td>2005</td>\n",
       "      <td>206629</td>\n",
       "      <td>6837</td>\n",
       "      <td>46171</td>\n",
       "      <td>29671</td>\n",
       "      <td>9279</td>\n",
       "      <td>7332</td>\n",
       "    </tr>\n",
       "    <tr>\n",
       "      <th>3</th>\n",
       "      <td>2010</td>\n",
       "      <td>126127</td>\n",
       "      <td>4347</td>\n",
       "      <td>27793</td>\n",
       "      <td>17330</td>\n",
       "      <td>7697</td>\n",
       "      <td>4363</td>\n",
       "    </tr>\n",
       "    <tr>\n",
       "      <th>4</th>\n",
       "      <td>2011</td>\n",
       "      <td>120739</td>\n",
       "      <td>4093</td>\n",
       "      <td>26328</td>\n",
       "      <td>16697</td>\n",
       "      <td>7638</td>\n",
       "      <td>4015</td>\n",
       "    </tr>\n",
       "    <tr>\n",
       "      <th>5</th>\n",
       "      <td>2012</td>\n",
       "      <td>117261</td>\n",
       "      <td>3722</td>\n",
       "      <td>24917</td>\n",
       "      <td>16583</td>\n",
       "      <td>7205</td>\n",
       "      <td>3726</td>\n",
       "    </tr>\n",
       "    <tr>\n",
       "      <th>6</th>\n",
       "      <td>2013</td>\n",
       "      <td>110094</td>\n",
       "      <td>3590</td>\n",
       "      <td>23116</td>\n",
       "      <td>15683</td>\n",
       "      <td>6976</td>\n",
       "      <td>3581</td>\n",
       "    </tr>\n",
       "    <tr>\n",
       "      <th>7</th>\n",
       "      <td>2014</td>\n",
       "      <td>153511</td>\n",
       "      <td>4748</td>\n",
       "      <td>31269</td>\n",
       "      <td>22286</td>\n",
       "      <td>11285</td>\n",
       "      <td>5080</td>\n",
       "    </tr>\n",
       "    <tr>\n",
       "      <th>8</th>\n",
       "      <td>2015</td>\n",
       "      <td>178293</td>\n",
       "      <td>5420</td>\n",
       "      <td>37498</td>\n",
       "      <td>25304</td>\n",
       "      <td>12494</td>\n",
       "      <td>6166</td>\n",
       "    </tr>\n",
       "    <tr>\n",
       "      <th>9</th>\n",
       "      <td>2016</td>\n",
       "      <td>214793</td>\n",
       "      <td>6435</td>\n",
       "      <td>46512</td>\n",
       "      <td>30762</td>\n",
       "      <td>12415</td>\n",
       "      <td>7664</td>\n",
       "    </tr>\n",
       "    <tr>\n",
       "      <th>10</th>\n",
       "      <td>2017</td>\n",
       "      <td>241860</td>\n",
       "      <td>7297</td>\n",
       "      <td>52198</td>\n",
       "      <td>36329</td>\n",
       "      <td>11286</td>\n",
       "      <td>8278</td>\n",
       "    </tr>\n",
       "  </tbody>\n",
       "</table>\n",
       "</div>"
      ],
      "text/plain": [
       "    Unnamed: 0  Nederland  Groningen (PV)  Zuid-Holland (PV)  \\\n",
       "0         1995     154568            5512              36098   \n",
       "1         2000     189358            6871              43079   \n",
       "2         2005     206629            6837              46171   \n",
       "3         2010     126127            4347              27793   \n",
       "4         2011     120739            4093              26328   \n",
       "5         2012     117261            3722              24917   \n",
       "6         2013     110094            3590              23116   \n",
       "7         2014     153511            4748              31269   \n",
       "8         2015     178293            5420              37498   \n",
       "9         2016     214793            6435              46512   \n",
       "10        2017     241860            7297              52198   \n",
       "\n",
       "    Noord-Brabant (PV)  Amsterdam  Rotterdam  \n",
       "0                23502       2864       4987  \n",
       "1                28002       4951       6533  \n",
       "2                29671       9279       7332  \n",
       "3                17330       7697       4363  \n",
       "4                16697       7638       4015  \n",
       "5                16583       7205       3726  \n",
       "6                15683       6976       3581  \n",
       "7                22286      11285       5080  \n",
       "8                25304      12494       6166  \n",
       "9                30762      12415       7664  \n",
       "10               36329      11286       8278  "
      ]
     },
     "execution_count": 135,
     "metadata": {},
     "output_type": "execute_result"
    }
   ],
   "source": [
    "avw"
   ]
  },
  {
   "cell_type": "markdown",
   "metadata": {},
   "source": [
    "### Grafieken moeten nog aangepast worden, er moet een vergelijking met een andere zijn, data van de huizen is raar in het begin dus moet anders naar gekeken worden\n",
    "<a name=\"6\"></a>"
   ]
  },
  {
   "cell_type": "code",
   "execution_count": 128,
   "metadata": {},
   "outputs": [
    {
     "data": {
      "text/html": [
       "<iframe id=\"igraph\" scrolling=\"no\" style=\"border:none;\" seamless=\"seamless\" src=\"https://plot.ly/~Emy/8.embed\" height=\"525px\" width=\"100%\"></iframe>"
      ],
      "text/plain": [
       "<plotly.tools.PlotlyDisplay object>"
      ]
     },
     "execution_count": 128,
     "metadata": {},
     "output_type": "execute_result"
    }
   ],
   "source": [
    "trace1 = [go.Scatter(x=time, y=pbw_nederland)]\n",
    "py.iplot(trace1)"
   ]
  },
  {
   "cell_type": "code",
   "execution_count": 121,
   "metadata": {},
   "outputs": [
    {
     "data": {
      "text/html": [
       "<iframe id=\"igraph\" scrolling=\"no\" style=\"border:none;\" seamless=\"seamless\" src=\"https://plot.ly/~Emy/6.embed\" height=\"525px\" width=\"100%\"></iframe>"
      ],
      "text/plain": [
       "<plotly.tools.PlotlyDisplay object>"
      ]
     },
     "execution_count": 121,
     "metadata": {},
     "output_type": "execute_result"
    }
   ],
   "source": [
    "income = [go.Scatter(x=gpi_year, y=gpi_income)]\n",
    "py.iplot(income)"
   ]
  },
  {
   "cell_type": "code",
   "execution_count": 122,
   "metadata": {},
   "outputs": [
    {
     "data": {
      "text/plain": [
       "0     33.2\n",
       "1     35.3\n",
       "2     36.4\n",
       "3     36.6\n",
       "4     37.8\n",
       "5     38.4\n",
       "6     40.0\n",
       "7     42.4\n",
       "8     43.2\n",
       "9     42.9\n",
       "10    42.9\n",
       "11    43.2\n",
       "12    43.6\n",
       "13    43.7\n",
       "14    44.9\n",
       "15    45.2\n",
       "16    45.6\n",
       "Name: Gemiddeld persoonlijk primair inkomen, dtype: float64"
      ]
     },
     "execution_count": 122,
     "metadata": {},
     "output_type": "execute_result"
    }
   ],
   "source": [
    "gpi_income"
   ]
  },
  {
   "cell_type": "code",
   "execution_count": 50,
   "metadata": {
    "collapsed": true
   },
   "outputs": [],
   "source": [
    "from datetime import datetime"
   ]
  },
  {
   "cell_type": "markdown",
   "metadata": {},
   "source": [
    "### Geprobeerd een regressie te doen, snap nog niet goed wat de uitkomst is\n",
    "<a name=\"7\"></a>"
   ]
  },
  {
   "cell_type": "code",
   "execution_count": 130,
   "metadata": {},
   "outputs": [],
   "source": [
    "slope, intercept = np.polyfit(pbw_nederland, avw_nederland, 1)"
   ]
  },
  {
   "cell_type": "code",
   "execution_count": 131,
   "metadata": {},
   "outputs": [
    {
     "data": {
      "text/plain": [
       "208.27011604045069"
      ]
     },
     "execution_count": 131,
     "metadata": {},
     "output_type": "execute_result"
    }
   ],
   "source": [
    "slope"
   ]
  },
  {
   "cell_type": "code",
   "execution_count": 132,
   "metadata": {},
   "outputs": [
    {
     "data": {
      "text/plain": [
       "146948.96066848899"
      ]
     },
     "execution_count": 132,
     "metadata": {},
     "output_type": "execute_result"
    }
   ],
   "source": [
    "intercept"
   ]
  },
  {
   "cell_type": "code",
   "execution_count": 133,
   "metadata": {},
   "outputs": [
    {
     "ename": "NameError",
     "evalue": "name 'pearson_r' is not defined",
     "output_type": "error",
     "traceback": [
      "\u001b[1;31m---------------------------------------------------------------------------\u001b[0m",
      "\u001b[1;31mNameError\u001b[0m                                 Traceback (most recent call last)",
      "\u001b[1;32m<ipython-input-133-1c1be2fed7b2>\u001b[0m in \u001b[0;36m<module>\u001b[1;34m()\u001b[0m\n\u001b[1;32m----> 1\u001b[1;33m \u001b[0mprint\u001b[0m\u001b[1;33m(\u001b[0m\u001b[0mpearson_r\u001b[0m\u001b[1;33m(\u001b[0m\u001b[0mpbw_nederland\u001b[0m\u001b[1;33m,\u001b[0m \u001b[0mgpi_income\u001b[0m\u001b[1;33m)\u001b[0m\u001b[1;33m)\u001b[0m\u001b[1;33m\u001b[0m\u001b[0m\n\u001b[0m",
      "\u001b[1;31mNameError\u001b[0m: name 'pearson_r' is not defined"
     ]
    }
   ],
   "source": [
    "print(pearson_r(pbw_nederland, gpi_income))"
   ]
  },
  {
   "cell_type": "code",
   "execution_count": null,
   "metadata": {
    "collapsed": true
   },
   "outputs": [],
   "source": []
  }
 ],
 "metadata": {
  "kernelspec": {
   "display_name": "Python 3",
   "language": "python",
   "name": "python3"
  },
  "language_info": {
   "codemirror_mode": {
    "name": "ipython",
    "version": 3
   },
   "file_extension": ".py",
   "mimetype": "text/x-python",
   "name": "python",
   "nbconvert_exporter": "python",
   "pygments_lexer": "ipython3",
   "version": "3.6.1"
  }
 },
 "nbformat": 4,
 "nbformat_minor": 2
}
